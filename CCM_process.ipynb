{
 "cells": [
  {
   "cell_type": "code",
   "execution_count": 1,
   "metadata": {},
   "outputs": [
    {
     "data": {
      "text/plain": [
       "'3.7.4 (default, Aug 13 2019, 15:17:50) \\n[Clang 4.0.1 (tags/RELEASE_401/final)]'"
      ]
     },
     "execution_count": 1,
     "metadata": {},
     "output_type": "execute_result"
    }
   ],
   "source": [
    "#Import packages\n",
    "#---------------------------------------\n",
    "import sys\n",
    "import os\n",
    "import pandas as pd\n",
    "from matplotlib import pyplot as plt\n",
    "import numpy as np\n",
    "import matplotlib\n",
    "import warnings\n",
    "warnings.filterwarnings(\"ignore\", category=RuntimeWarning) \n",
    "\n",
    "#Import your modules\n",
    "#---------------------------------------\n",
    "import admin_functions as adfn\n",
    "import CCM as cfn\n",
    "# Define paths\n",
    "#----------------------------------------------------------------------\n",
    "Fcode = '/Users/dominicburrows/Dropbox/PhD/Analysis/my_scripts/GitHub/'\n",
    "Fdata = '/Users/dominicburrows/Dropbox/PhD/analysis/Project/'\n",
    "Fdoc = '/Users/dominicburrows/Documents/'\n",
    "F10t = '/Volumes/Dominic 10tb/Data2process/Project/' \n",
    "F10t2 = '/Volumes/Dominic 10tb2/Data2process/Project/'\n",
    "Ftm = '/Volumes/Dominic Time Machine/'\n",
    "Ffig = '/Users/dominicburrows/Dropbox/PhD/figures/'\n",
    "\n",
    "%load_ext autoreload\n",
    "sys.version"
   ]
  },
  {
   "cell_type": "markdown",
   "metadata": {},
   "source": [
    "# Group seizure data for kEDM"
   ]
  },
  {
   "cell_type": "code",
   "execution_count": 24,
   "metadata": {},
   "outputs": [],
   "source": [
    "#NB - kEDM wants data structured as: time x cells\n",
    "#CCM_seizure_sort function adds in a meantrace and saves traces as: cells x time in .npy dict, but time x cells in .h5 \n",
    "import glob\n",
    "\n",
    "co_l = sorted(glob.glob(Fdata + 'PTZ-WILDTYPE-CCM/' '*labcoord*'))\n",
    "tr_l = sorted(glob.glob(Fdata + 'PTZ-WILDTYPE-CCM/' + '*regtrace*'))\n",
    "dff_l = sorted(glob.glob(Fdata + 'PTZ-WILDTYPE-CCM/' + '*regdelta*npy'))\n",
    "\n",
    "co_l = co_l[18:]\n",
    "tr_l = tr_l[18:]\n",
    "dff_l = dff_l[18:]\n",
    "\n",
    "assert len(co_l) == len(tr_l) == len(dff_l)\n",
    "for i in range(len(co_l)):\n",
    "    assert tr_l[i][0:tr_l[i].find('run')+7] == co_l[i][0:co_l[i].find('run')+7] == dff_l[i][0:dff_l[i].find('run')+7]\n"
   ]
  },
  {
   "cell_type": "code",
   "execution_count": 25,
   "metadata": {},
   "outputs": [
    {
     "data": {
      "text/plain": [
       "['/Users/dominicburrows/Dropbox/PhD/analysis/Project/PTZ-WILDTYPE-CCM/PTZ-WILDTYPE-14_2photon_sess-01-6dpf_PTZ20_run-01_labcoord.npy',\n",
       " '/Users/dominicburrows/Dropbox/PhD/analysis/Project/PTZ-WILDTYPE-CCM/PTZ-WILDTYPE-15_2photon_sess-01-6dpf_BLN_run-01_labcoord.npy',\n",
       " '/Users/dominicburrows/Dropbox/PhD/analysis/Project/PTZ-WILDTYPE-CCM/PTZ-WILDTYPE-15_2photon_sess-01-6dpf_PTZ05_run-01_labcoord.npy']"
      ]
     },
     "execution_count": 25,
     "metadata": {},
     "output_type": "execute_result"
    }
   ],
   "source": [
    "co_l"
   ]
  },
  {
   "cell_type": "code",
   "execution_count": null,
   "metadata": {},
   "outputs": [],
   "source": [
    "#Save dict containing all data and hdf5 files for CCM\n",
    "                                                            \n",
    "for i in range(len(co_l)):\n",
    "    co = np.load(co_l[i])\n",
    "    tr = np.load(tr_l[i])\n",
    "    dff = np.load(dff_l[i])\n",
    "    name = adfn.save_name(co_l[i])\n",
    "    f_dict = cfn.CCM_seizure_sort(co, tr, dff, name)\n",
    "    \n",
    "    #plt.figure(figsize = (10,5))\n",
    "    #plt.scatter(f_dict['coord'][:,1], f_dict['coord'][:,0], s = 2, color = 'k')\n",
    "    #plt.show()\n",
    "    print('Done ' + name)"
   ]
  },
  {
   "cell_type": "code",
   "execution_count": 26,
   "metadata": {},
   "outputs": [],
   "source": [
    "# Split data into increasing time intervals for CCM convergence \n",
    "div_list = [2,4,8]"
   ]
  },
  {
   "cell_type": "code",
   "execution_count": 27,
   "metadata": {},
   "outputs": [
    {
     "name": "stderr",
     "output_type": "stream",
     "text": [
      "/Users/dominicburrows/Applications/anaconda3/lib/python3.7/site-packages/ipykernel_launcher.py:6: DeprecationWarning: `np.int` is a deprecated alias for the builtin `int`. To silence this warning, use `int` by itself. Doing this will not modify any behavior and is safe. When replacing `np.int`, you may wish to use e.g. `np.int64` or `np.int32` to specify the precision. If you wish to review your current use, check the release note link for additional information.\n",
      "Deprecated in NumPy 1.20; for more details and guidance: https://numpy.org/devdocs/release/1.20.0-notes.html#deprecations\n",
      "  \n",
      "/Users/dominicburrows/Applications/anaconda3/lib/python3.7/site-packages/ipykernel_launcher.py:7: DeprecationWarning: `np.int` is a deprecated alias for the builtin `int`. To silence this warning, use `int` by itself. Doing this will not modify any behavior and is safe. When replacing `np.int`, you may wish to use e.g. `np.int64` or `np.int32` to specify the precision. If you wish to review your current use, check the release note link for additional information.\n",
      "Deprecated in NumPy 1.20; for more details and guidance: https://numpy.org/devdocs/release/1.20.0-notes.html#deprecations\n",
      "  import sys\n"
     ]
    },
    {
     "name": "stdout",
     "output_type": "stream",
     "text": [
      "Done /Users/dominicburrows/Dropbox/PhD/analysis/Project/PTZ-WILDTYPE-CCM/PTZ-WILDTYPE-14_2photon_sess-01-6dpf_PTZ20_run-01_labcoord.npy\n",
      "Done /Users/dominicburrows/Dropbox/PhD/analysis/Project/PTZ-WILDTYPE-CCM/PTZ-WILDTYPE-14_2photon_sess-01-6dpf_PTZ20_run-01_labcoord.npy\n",
      "Done /Users/dominicburrows/Dropbox/PhD/analysis/Project/PTZ-WILDTYPE-CCM/PTZ-WILDTYPE-14_2photon_sess-01-6dpf_PTZ20_run-01_labcoord.npy\n",
      "Done /Users/dominicburrows/Dropbox/PhD/analysis/Project/PTZ-WILDTYPE-CCM/PTZ-WILDTYPE-15_2photon_sess-01-6dpf_BLN_run-01_labcoord.npy\n",
      "Done /Users/dominicburrows/Dropbox/PhD/analysis/Project/PTZ-WILDTYPE-CCM/PTZ-WILDTYPE-15_2photon_sess-01-6dpf_BLN_run-01_labcoord.npy\n",
      "Done /Users/dominicburrows/Dropbox/PhD/analysis/Project/PTZ-WILDTYPE-CCM/PTZ-WILDTYPE-15_2photon_sess-01-6dpf_BLN_run-01_labcoord.npy\n",
      "Done /Users/dominicburrows/Dropbox/PhD/analysis/Project/PTZ-WILDTYPE-CCM/PTZ-WILDTYPE-15_2photon_sess-01-6dpf_PTZ05_run-01_labcoord.npy\n",
      "Done /Users/dominicburrows/Dropbox/PhD/analysis/Project/PTZ-WILDTYPE-CCM/PTZ-WILDTYPE-15_2photon_sess-01-6dpf_PTZ05_run-01_labcoord.npy\n",
      "Done /Users/dominicburrows/Dropbox/PhD/analysis/Project/PTZ-WILDTYPE-CCM/PTZ-WILDTYPE-15_2photon_sess-01-6dpf_PTZ05_run-01_labcoord.npy\n"
     ]
    }
   ],
   "source": [
    "for i in range(len(co_l)):\n",
    "    co = np.load(co_l[i])\n",
    "    tr = np.load(tr_l[i])\n",
    "    dff = np.load(dff_l[i])\n",
    "    for d in div_list:\n",
    "        sub_tr = tr[:,:(np.int(tr.shape[1]/d))]\n",
    "        sub_dff = dff[:,:(np.int(dff.shape[1]/d))]\n",
    "        name = adfn.save_name(co_l[i]) + '_interval-' + '1.' + str(d) \n",
    "        f_dict = cfn.CCM_seizure_sort(co, sub_tr, sub_dff, name)\n",
    "        print('Done ' + co_l[i])"
   ]
  },
  {
   "cell_type": "code",
   "execution_count": 28,
   "metadata": {},
   "outputs": [
    {
     "name": "stderr",
     "output_type": "stream",
     "text": [
      "/Users/dominicburrows/Applications/anaconda3/lib/python3.7/site-packages/ipykernel_launcher.py:6: DeprecationWarning: `np.int` is a deprecated alias for the builtin `int`. To silence this warning, use `int` by itself. Doing this will not modify any behavior and is safe. When replacing `np.int`, you may wish to use e.g. `np.int64` or `np.int32` to specify the precision. If you wish to review your current use, check the release note link for additional information.\n",
      "Deprecated in NumPy 1.20; for more details and guidance: https://numpy.org/devdocs/release/1.20.0-notes.html#deprecations\n",
      "  \n",
      "/Users/dominicburrows/Applications/anaconda3/lib/python3.7/site-packages/ipykernel_launcher.py:7: DeprecationWarning: `np.int` is a deprecated alias for the builtin `int`. To silence this warning, use `int` by itself. Doing this will not modify any behavior and is safe. When replacing `np.int`, you may wish to use e.g. `np.int64` or `np.int32` to specify the precision. If you wish to review your current use, check the release note link for additional information.\n",
      "Deprecated in NumPy 1.20; for more details and guidance: https://numpy.org/devdocs/release/1.20.0-notes.html#deprecations\n",
      "  import sys\n"
     ]
    }
   ],
   "source": [
    "for i in range(len(co_l)):\n",
    "    co = np.load(co_l[i])\n",
    "    tr = np.load(tr_l[i])\n",
    "    dff = np.load(dff_l[i])\n",
    "    for d in div_list:\n",
    "        sub_tr = tr[:,:(np.int(tr.shape[1]/d))]\n",
    "        sub_dff = dff[:,:(np.int(dff.shape[1]/d))]\n",
    "        name = adfn.save_name(co_l[i]) + '_interval-' + '1.' + str(d)\n",
    "        assert np.load(glob.glob(name + '*npy')[0], allow_pickle=True).item()['trace'].shape[1] == sub_tr.shape[1]\n",
    "        assert np.load(glob.glob(name + '*npy')[0], allow_pickle=True).item()['dff'].shape[1] == sub_dff.shape[1]\n",
    "\n",
    "        #f_dict = cfn.CCM_seizure_sort(co, sub_tr, sub_dff, name)\n",
    "        #print('Done ' + co_l[i])"
   ]
  },
  {
   "cell_type": "markdown",
   "metadata": {},
   "source": [
    "# Process any trace data only for kEDM"
   ]
  },
  {
   "cell_type": "code",
   "execution_count": 23,
   "metadata": {},
   "outputs": [
    {
     "data": {
      "text/plain": [
       "['datNeuralSPIKFiltAndStim.npy']"
      ]
     },
     "execution_count": 23,
     "metadata": {},
     "output_type": "execute_result"
    }
   ],
   "source": [
    "#NB - kEDM wants data structured as: time x cells\n",
    "#CCM_trace_save function renames and saves trace data as: time x cells, and \n",
    "# then saves the trace in the correct orientation in h5 format\n",
    "\n",
    "tr_l = adfn.return_files(Fdata, 'PTZ-WILDTYPE-CCM/kostas', '*dat*.npy*')\n",
    "tr_l"
   ]
  },
  {
   "cell_type": "code",
   "execution_count": 24,
   "metadata": {},
   "outputs": [
    {
     "data": {
      "text/plain": [
       "(11929, 6336)"
      ]
     },
     "execution_count": 24,
     "metadata": {},
     "output_type": "execute_result"
    }
   ],
   "source": [
    "np.load(tr_l[0]).shape"
   ]
  },
  {
   "cell_type": "code",
   "execution_count": 8,
   "metadata": {},
   "outputs": [],
   "source": [
    "%autoreload"
   ]
  },
  {
   "cell_type": "code",
   "execution_count": 25,
   "metadata": {},
   "outputs": [
    {
     "data": {
      "text/plain": [
       "('datNeuralSPIKFiltAndStim.npy',\n",
       " 'KOSTAS_220628-1312_2photon_sess-01-6dpf_run-01_trace')"
      ]
     },
     "execution_count": 25,
     "metadata": {},
     "output_type": "execute_result"
    }
   ],
   "source": [
    "#NB - must have datatype after 'run-XX_'\n",
    "data = tr_l[0]\n",
    "name = 'KOSTAS_220628-1312_2photon_sess-01-6dpf_run-01_trace'\n",
    "data, name"
   ]
  },
  {
   "cell_type": "code",
   "execution_count": 26,
   "metadata": {},
   "outputs": [],
   "source": [
    "#Save \n",
    "cfn.CCM_trace_save(data, name)"
   ]
  },
  {
   "cell_type": "code",
   "execution_count": null,
   "metadata": {},
   "outputs": [],
   "source": []
  }
 ],
 "metadata": {
  "kernelspec": {
   "display_name": "Python 3",
   "language": "python",
   "name": "python3"
  },
  "language_info": {
   "codemirror_mode": {
    "name": "ipython",
    "version": 3
   },
   "file_extension": ".py",
   "mimetype": "text/x-python",
   "name": "python",
   "nbconvert_exporter": "python",
   "pygments_lexer": "ipython3",
   "version": "3.7.4"
  }
 },
 "nbformat": 4,
 "nbformat_minor": 4
}
