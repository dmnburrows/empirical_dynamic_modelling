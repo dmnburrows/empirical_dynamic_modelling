{
 "cells": [
  {
   "cell_type": "code",
   "execution_count": 3,
   "metadata": {},
   "outputs": [
    {
     "data": {
      "text/plain": [
       "'3.7.4 (default, Aug 13 2019, 15:17:50) \\n[Clang 4.0.1 (tags/RELEASE_401/final)]'"
      ]
     },
     "execution_count": 3,
     "metadata": {},
     "output_type": "execute_result"
    }
   ],
   "source": [
    "#Import packages\n",
    "#---------------------------------------\n",
    "import sys\n",
    "import os\n",
    "import pandas as pd\n",
    "from matplotlib import pyplot as plt\n",
    "import numpy as np\n",
    "import matplotlib\n",
    "import warnings\n",
    "warnings.filterwarnings(\"ignore\", category=RuntimeWarning) \n",
    "\n",
    "#Import your modules\n",
    "#---------------------------------------\n",
    "import admin_functions as adfn\n",
    "import CCM as cfn\n",
    "\n",
    "# Define paths\n",
    "#----------------------------------------------------------------------\n",
    "Fcode = '/Users/dominicburrows/Dropbox/PhD/Analysis/my_scripts/GitHub/'\n",
    "Fdata = '/Users/dominicburrows/Dropbox/PhD/analysis/Project/'\n",
    "Fdoc = '/Users/dominicburrows/Documents/'\n",
    "F10t = '/Volumes/Dominic 10tb/Data2process/Project/' \n",
    "F10t2 = '/Volumes/Dominic 10tb2/Data2process/Project/'\n",
    "Ftm = '/Volumes/Dominic Time Machine/'\n",
    "Ffig = '/Users/dominicburrows/Dropbox/PhD/figures/'\n",
    "\n",
    "%load_ext autoreload\n",
    "sys.version"
   ]
  },
  {
   "cell_type": "code",
   "execution_count": 15,
   "metadata": {},
   "outputs": [],
   "source": [
    "#NB - kEDM wants data structured as: time x cells\n",
    "#CCM_seizure_sort function adds in a meantrace and saves traces as: cells x time in .npy dict, but time x cells in .h5 \n",
    "import glob\n",
    "\n",
    "co_l = glob.glob(Fdata + 'PTZ-WILDTYPE-CCM/' '*labcoord*')\n",
    "tr_l = glob.glob(Fdata + 'PTZ-WILDTYPE-CCM/' + '*regtrace*')\n",
    "#dff_l = glob.glob(Fdata + 'PTZ-WILDTYPE-CCM/' + '*dff*')\n",
    "co_l.sort()\n",
    "tr_l.sort()\n",
    "for i in range(len(co_l)):\n",
    "    assert tr_l[i][0:tr_l[i].find('run')+7] == co_l[i][0:co_l[i].find('run')+7] "
   ]
  },
  {
   "cell_type": "code",
   "execution_count": 16,
   "metadata": {},
   "outputs": [],
   "source": [
    "div_list = [2,4,8]\n"
   ]
  },
  {
   "cell_type": "code",
   "execution_count": 35,
   "metadata": {},
   "outputs": [
    {
     "data": {
      "text/plain": [
       "(15644, 9009)"
      ]
     },
     "execution_count": 35,
     "metadata": {},
     "output_type": "execute_result"
    }
   ],
   "source": [
    "tr.shape"
   ]
  },
  {
   "cell_type": "code",
   "execution_count": 55,
   "metadata": {},
   "outputs": [
    {
     "name": "stdout",
     "output_type": "stream",
     "text": [
      "4504\n",
      "(15644, 4504)\n",
      "2252\n",
      "(15644, 2252)\n",
      "1126\n",
      "(15644, 1126)\n"
     ]
    },
    {
     "name": "stderr",
     "output_type": "stream",
     "text": [
      "/Users/dominicburrows/Applications/anaconda3/lib/python3.7/site-packages/ipykernel_launcher.py:3: DeprecationWarning: `np.int` is a deprecated alias for the builtin `int`. To silence this warning, use `int` by itself. Doing this will not modify any behavior and is safe. When replacing `np.int`, you may wish to use e.g. `np.int64` or `np.int32` to specify the precision. If you wish to review your current use, check the release note link for additional information.\n",
      "Deprecated in NumPy 1.20; for more details and guidance: https://numpy.org/devdocs/release/1.20.0-notes.html#deprecations\n",
      "  This is separate from the ipykernel package so we can avoid doing imports until\n"
     ]
    }
   ],
   "source": [
    "for d in div_list:\n",
    "    print(int(tr.shape[1]/d))\n",
    "    print(tr[:,:(np.int(tr.shape[1]/d))].shape)"
   ]
  },
  {
   "cell_type": "code",
   "execution_count": 62,
   "metadata": {},
   "outputs": [
    {
     "name": "stdout",
     "output_type": "stream",
     "text": [
      "/Users/dominicburrows/Dropbox/PhD/Analysis/Project/PTZ-WILDTYPE-CCM\n"
     ]
    }
   ],
   "source": [
    "cd /Users/dominicburrows/Dropbox/PhD/analysis/Project/PTZ-WILDTYPE-CCM/"
   ]
  },
  {
   "cell_type": "code",
   "execution_count": 69,
   "metadata": {},
   "outputs": [
    {
     "name": "stderr",
     "output_type": "stream",
     "text": [
      "/Users/dominicburrows/Applications/anaconda3/lib/python3.7/site-packages/ipykernel_launcher.py:7: DeprecationWarning: `np.int` is a deprecated alias for the builtin `int`. To silence this warning, use `int` by itself. Doing this will not modify any behavior and is safe. When replacing `np.int`, you may wish to use e.g. `np.int64` or `np.int32` to specify the precision. If you wish to review your current use, check the release note link for additional information.\n",
      "Deprecated in NumPy 1.20; for more details and guidance: https://numpy.org/devdocs/release/1.20.0-notes.html#deprecations\n",
      "  import sys\n"
     ]
    },
    {
     "name": "stdout",
     "output_type": "stream",
     "text": [
      "Done /Users/dominicburrows/Dropbox/PhD/analysis/Project/PTZ-WILDTYPE-CCM/PTZ-WILDTYPE-03_2photon_sess-01-6dpf_BLN_run-01_labcoord.npy\n",
      "Done /Users/dominicburrows/Dropbox/PhD/analysis/Project/PTZ-WILDTYPE-CCM/PTZ-WILDTYPE-03_2photon_sess-01-6dpf_BLN_run-01_labcoord.npy\n",
      "Done /Users/dominicburrows/Dropbox/PhD/analysis/Project/PTZ-WILDTYPE-CCM/PTZ-WILDTYPE-03_2photon_sess-01-6dpf_BLN_run-01_labcoord.npy\n",
      "Done /Users/dominicburrows/Dropbox/PhD/analysis/Project/PTZ-WILDTYPE-CCM/PTZ-WILDTYPE-03_2photon_sess-01-6dpf_PTZ05_run-01_labcoord.npy\n",
      "Done /Users/dominicburrows/Dropbox/PhD/analysis/Project/PTZ-WILDTYPE-CCM/PTZ-WILDTYPE-03_2photon_sess-01-6dpf_PTZ05_run-01_labcoord.npy\n",
      "Done /Users/dominicburrows/Dropbox/PhD/analysis/Project/PTZ-WILDTYPE-CCM/PTZ-WILDTYPE-03_2photon_sess-01-6dpf_PTZ05_run-01_labcoord.npy\n",
      "Done /Users/dominicburrows/Dropbox/PhD/analysis/Project/PTZ-WILDTYPE-CCM/PTZ-WILDTYPE-03_2photon_sess-01-6dpf_PTZ20_run-01_labcoord.npy\n",
      "Done /Users/dominicburrows/Dropbox/PhD/analysis/Project/PTZ-WILDTYPE-CCM/PTZ-WILDTYPE-03_2photon_sess-01-6dpf_PTZ20_run-01_labcoord.npy\n",
      "Done /Users/dominicburrows/Dropbox/PhD/analysis/Project/PTZ-WILDTYPE-CCM/PTZ-WILDTYPE-03_2photon_sess-01-6dpf_PTZ20_run-01_labcoord.npy\n",
      "Done /Users/dominicburrows/Dropbox/PhD/analysis/Project/PTZ-WILDTYPE-CCM/PTZ-WILDTYPE-06_2photon_sess-01-6dpf_BLN_run-01_labcoord.npy\n",
      "Done /Users/dominicburrows/Dropbox/PhD/analysis/Project/PTZ-WILDTYPE-CCM/PTZ-WILDTYPE-06_2photon_sess-01-6dpf_BLN_run-01_labcoord.npy\n",
      "Done /Users/dominicburrows/Dropbox/PhD/analysis/Project/PTZ-WILDTYPE-CCM/PTZ-WILDTYPE-06_2photon_sess-01-6dpf_BLN_run-01_labcoord.npy\n",
      "Done /Users/dominicburrows/Dropbox/PhD/analysis/Project/PTZ-WILDTYPE-CCM/PTZ-WILDTYPE-06_2photon_sess-01-6dpf_PTZ05_run-01_labcoord.npy\n",
      "Done /Users/dominicburrows/Dropbox/PhD/analysis/Project/PTZ-WILDTYPE-CCM/PTZ-WILDTYPE-06_2photon_sess-01-6dpf_PTZ05_run-01_labcoord.npy\n",
      "Done /Users/dominicburrows/Dropbox/PhD/analysis/Project/PTZ-WILDTYPE-CCM/PTZ-WILDTYPE-06_2photon_sess-01-6dpf_PTZ05_run-01_labcoord.npy\n",
      "Done /Users/dominicburrows/Dropbox/PhD/analysis/Project/PTZ-WILDTYPE-CCM/PTZ-WILDTYPE-06_2photon_sess-01-6dpf_PTZ20_run-01_labcoord.npy\n",
      "Done /Users/dominicburrows/Dropbox/PhD/analysis/Project/PTZ-WILDTYPE-CCM/PTZ-WILDTYPE-06_2photon_sess-01-6dpf_PTZ20_run-01_labcoord.npy\n",
      "Done /Users/dominicburrows/Dropbox/PhD/analysis/Project/PTZ-WILDTYPE-CCM/PTZ-WILDTYPE-06_2photon_sess-01-6dpf_PTZ20_run-01_labcoord.npy\n",
      "Done /Users/dominicburrows/Dropbox/PhD/analysis/Project/PTZ-WILDTYPE-CCM/PTZ-WILDTYPE-07_2photon_sess-01-6dpf_BLN_run-01_labcoord.npy\n",
      "Done /Users/dominicburrows/Dropbox/PhD/analysis/Project/PTZ-WILDTYPE-CCM/PTZ-WILDTYPE-07_2photon_sess-01-6dpf_BLN_run-01_labcoord.npy\n",
      "Done /Users/dominicburrows/Dropbox/PhD/analysis/Project/PTZ-WILDTYPE-CCM/PTZ-WILDTYPE-07_2photon_sess-01-6dpf_BLN_run-01_labcoord.npy\n",
      "Done /Users/dominicburrows/Dropbox/PhD/analysis/Project/PTZ-WILDTYPE-CCM/PTZ-WILDTYPE-07_2photon_sess-01-6dpf_PTZ05_run-01_labcoord.npy\n",
      "Done /Users/dominicburrows/Dropbox/PhD/analysis/Project/PTZ-WILDTYPE-CCM/PTZ-WILDTYPE-07_2photon_sess-01-6dpf_PTZ05_run-01_labcoord.npy\n",
      "Done /Users/dominicburrows/Dropbox/PhD/analysis/Project/PTZ-WILDTYPE-CCM/PTZ-WILDTYPE-07_2photon_sess-01-6dpf_PTZ05_run-01_labcoord.npy\n",
      "Done /Users/dominicburrows/Dropbox/PhD/analysis/Project/PTZ-WILDTYPE-CCM/PTZ-WILDTYPE-07_2photon_sess-01-6dpf_PTZ20_run-01_labcoord.npy\n",
      "Done /Users/dominicburrows/Dropbox/PhD/analysis/Project/PTZ-WILDTYPE-CCM/PTZ-WILDTYPE-07_2photon_sess-01-6dpf_PTZ20_run-01_labcoord.npy\n",
      "Done /Users/dominicburrows/Dropbox/PhD/analysis/Project/PTZ-WILDTYPE-CCM/PTZ-WILDTYPE-07_2photon_sess-01-6dpf_PTZ20_run-01_labcoord.npy\n",
      "Done /Users/dominicburrows/Dropbox/PhD/analysis/Project/PTZ-WILDTYPE-CCM/PTZ-WILDTYPE-10_2photon_sess-01-6dpf_BLN_run-01_labcoord.npy\n",
      "Done /Users/dominicburrows/Dropbox/PhD/analysis/Project/PTZ-WILDTYPE-CCM/PTZ-WILDTYPE-10_2photon_sess-01-6dpf_BLN_run-01_labcoord.npy\n",
      "Done /Users/dominicburrows/Dropbox/PhD/analysis/Project/PTZ-WILDTYPE-CCM/PTZ-WILDTYPE-10_2photon_sess-01-6dpf_BLN_run-01_labcoord.npy\n",
      "Done /Users/dominicburrows/Dropbox/PhD/analysis/Project/PTZ-WILDTYPE-CCM/PTZ-WILDTYPE-10_2photon_sess-01-6dpf_PTZ05_run-01_labcoord.npy\n",
      "Done /Users/dominicburrows/Dropbox/PhD/analysis/Project/PTZ-WILDTYPE-CCM/PTZ-WILDTYPE-10_2photon_sess-01-6dpf_PTZ05_run-01_labcoord.npy\n",
      "Done /Users/dominicburrows/Dropbox/PhD/analysis/Project/PTZ-WILDTYPE-CCM/PTZ-WILDTYPE-10_2photon_sess-01-6dpf_PTZ05_run-01_labcoord.npy\n",
      "Done /Users/dominicburrows/Dropbox/PhD/analysis/Project/PTZ-WILDTYPE-CCM/PTZ-WILDTYPE-11_2photon_sess-01-6dpf_BLN_run-01_labcoord.npy\n",
      "Done /Users/dominicburrows/Dropbox/PhD/analysis/Project/PTZ-WILDTYPE-CCM/PTZ-WILDTYPE-11_2photon_sess-01-6dpf_BLN_run-01_labcoord.npy\n",
      "Done /Users/dominicburrows/Dropbox/PhD/analysis/Project/PTZ-WILDTYPE-CCM/PTZ-WILDTYPE-11_2photon_sess-01-6dpf_BLN_run-01_labcoord.npy\n",
      "Done /Users/dominicburrows/Dropbox/PhD/analysis/Project/PTZ-WILDTYPE-CCM/PTZ-WILDTYPE-11_2photon_sess-01-6dpf_PTZ05_run-01_labcoord.npy\n",
      "Done /Users/dominicburrows/Dropbox/PhD/analysis/Project/PTZ-WILDTYPE-CCM/PTZ-WILDTYPE-11_2photon_sess-01-6dpf_PTZ05_run-01_labcoord.npy\n",
      "Done /Users/dominicburrows/Dropbox/PhD/analysis/Project/PTZ-WILDTYPE-CCM/PTZ-WILDTYPE-11_2photon_sess-01-6dpf_PTZ05_run-01_labcoord.npy\n",
      "Done /Users/dominicburrows/Dropbox/PhD/analysis/Project/PTZ-WILDTYPE-CCM/PTZ-WILDTYPE-13_2photon_sess-01-6dpf_BLN_run-01_labcoord.npy\n",
      "Done /Users/dominicburrows/Dropbox/PhD/analysis/Project/PTZ-WILDTYPE-CCM/PTZ-WILDTYPE-13_2photon_sess-01-6dpf_BLN_run-01_labcoord.npy\n",
      "Done /Users/dominicburrows/Dropbox/PhD/analysis/Project/PTZ-WILDTYPE-CCM/PTZ-WILDTYPE-13_2photon_sess-01-6dpf_BLN_run-01_labcoord.npy\n",
      "Done /Users/dominicburrows/Dropbox/PhD/analysis/Project/PTZ-WILDTYPE-CCM/PTZ-WILDTYPE-13_2photon_sess-01-6dpf_PTZ05_run-01_labcoord.npy\n",
      "Done /Users/dominicburrows/Dropbox/PhD/analysis/Project/PTZ-WILDTYPE-CCM/PTZ-WILDTYPE-13_2photon_sess-01-6dpf_PTZ05_run-01_labcoord.npy\n"
     ]
    },
    {
     "ename": "OSError",
     "evalue": "[Errno 28] No space left on device",
     "output_type": "error",
     "traceback": [
      "\u001b[0;31m---------------------------------------------------------------------------\u001b[0m",
      "\u001b[0;31mOSError\u001b[0m                                   Traceback (most recent call last)",
      "\u001b[0;32m/var/folders/7t/rvqbbd0x4mvdgs2rdk37d4yr0000gn/T/ipykernel_50490/725691376.py\u001b[0m in \u001b[0;36m<module>\u001b[0;34m\u001b[0m\n\u001b[1;32m      7\u001b[0m         \u001b[0msub_tr\u001b[0m \u001b[0;34m=\u001b[0m \u001b[0mtr\u001b[0m\u001b[0;34m[\u001b[0m\u001b[0;34m:\u001b[0m\u001b[0;34m,\u001b[0m\u001b[0;34m:\u001b[0m\u001b[0;34m(\u001b[0m\u001b[0mnp\u001b[0m\u001b[0;34m.\u001b[0m\u001b[0mint\u001b[0m\u001b[0;34m(\u001b[0m\u001b[0mtr\u001b[0m\u001b[0;34m.\u001b[0m\u001b[0mshape\u001b[0m\u001b[0;34m[\u001b[0m\u001b[0;36m1\u001b[0m\u001b[0;34m]\u001b[0m\u001b[0;34m/\u001b[0m\u001b[0md\u001b[0m\u001b[0;34m)\u001b[0m\u001b[0;34m)\u001b[0m\u001b[0;34m]\u001b[0m\u001b[0;34m\u001b[0m\u001b[0;34m\u001b[0m\u001b[0m\n\u001b[1;32m      8\u001b[0m         \u001b[0mname\u001b[0m \u001b[0;34m=\u001b[0m \u001b[0madfn\u001b[0m\u001b[0;34m.\u001b[0m\u001b[0msave_name\u001b[0m\u001b[0;34m(\u001b[0m\u001b[0mco_l\u001b[0m\u001b[0;34m[\u001b[0m\u001b[0mi\u001b[0m\u001b[0;34m]\u001b[0m\u001b[0;34m)\u001b[0m \u001b[0;34m+\u001b[0m \u001b[0;34m'_interval-'\u001b[0m \u001b[0;34m+\u001b[0m \u001b[0;34m'1.'\u001b[0m \u001b[0;34m+\u001b[0m \u001b[0mstr\u001b[0m\u001b[0;34m(\u001b[0m\u001b[0md\u001b[0m\u001b[0;34m)\u001b[0m\u001b[0;34m\u001b[0m\u001b[0;34m\u001b[0m\u001b[0m\n\u001b[0;32m----> 9\u001b[0;31m         \u001b[0mf_dict\u001b[0m \u001b[0;34m=\u001b[0m \u001b[0mcfn\u001b[0m\u001b[0;34m.\u001b[0m\u001b[0mCCM_seizure_sort\u001b[0m\u001b[0;34m(\u001b[0m\u001b[0mco\u001b[0m\u001b[0;34m,\u001b[0m \u001b[0msub_tr\u001b[0m\u001b[0;34m,\u001b[0m \u001b[0msub_tr\u001b[0m\u001b[0;34m,\u001b[0m \u001b[0mname\u001b[0m\u001b[0;34m)\u001b[0m\u001b[0;34m\u001b[0m\u001b[0;34m\u001b[0m\u001b[0m\n\u001b[0m\u001b[1;32m     10\u001b[0m         \u001b[0mprint\u001b[0m\u001b[0;34m(\u001b[0m\u001b[0;34m'Done '\u001b[0m \u001b[0;34m+\u001b[0m \u001b[0mco_l\u001b[0m\u001b[0;34m[\u001b[0m\u001b[0mi\u001b[0m\u001b[0;34m]\u001b[0m\u001b[0;34m)\u001b[0m\u001b[0;34m\u001b[0m\u001b[0;34m\u001b[0m\u001b[0m\n",
      "\u001b[0;32m~/Dropbox/PhD/Analysis/my_scripts/GitHub/empirical_dynamic_modelling/CCM.py\u001b[0m in \u001b[0;36mCCM_seizure_sort\u001b[0;34m(co, tr, dff, name)\u001b[0m\n\u001b[1;32m     65\u001b[0m             \u001b[0mnp2h5\u001b[0m\u001b[0;34m(\u001b[0m\u001b[0mfull_name\u001b[0m\u001b[0;34m,\u001b[0m \u001b[0marray\u001b[0m\u001b[0;34m)\u001b[0m\u001b[0;34m\u001b[0m\u001b[0;34m\u001b[0m\u001b[0m\n\u001b[1;32m     66\u001b[0m \u001b[0;34m\u001b[0m\u001b[0m\n\u001b[0;32m---> 67\u001b[0;31m         \u001b[0mnp\u001b[0m\u001b[0;34m.\u001b[0m\u001b[0msave\u001b[0m\u001b[0;34m(\u001b[0m\u001b[0mname\u001b[0m \u001b[0;34m+\u001b[0m \u001b[0;34m'_pre-CCM.npy'\u001b[0m\u001b[0;34m,\u001b[0m \u001b[0mf_dict\u001b[0m\u001b[0;34m)\u001b[0m\u001b[0;34m\u001b[0m\u001b[0;34m\u001b[0m\u001b[0m\n\u001b[0m\u001b[1;32m     68\u001b[0m \u001b[0;34m\u001b[0m\u001b[0m\n\u001b[1;32m     69\u001b[0m         \u001b[0;32mreturn\u001b[0m\u001b[0;34m(\u001b[0m\u001b[0mf_dict\u001b[0m\u001b[0;34m)\u001b[0m\u001b[0;34m\u001b[0m\u001b[0;34m\u001b[0m\u001b[0m\n",
      "\u001b[0;32m<__array_function__ internals>\u001b[0m in \u001b[0;36msave\u001b[0;34m(*args, **kwargs)\u001b[0m\n",
      "\u001b[0;32m~/Applications/anaconda3/lib/python3.7/site-packages/numpy/lib/npyio.py\u001b[0m in \u001b[0;36msave\u001b[0;34m(file, arr, allow_pickle, fix_imports)\u001b[0m\n\u001b[1;32m    528\u001b[0m         \u001b[0marr\u001b[0m \u001b[0;34m=\u001b[0m \u001b[0mnp\u001b[0m\u001b[0;34m.\u001b[0m\u001b[0masanyarray\u001b[0m\u001b[0;34m(\u001b[0m\u001b[0marr\u001b[0m\u001b[0;34m)\u001b[0m\u001b[0;34m\u001b[0m\u001b[0;34m\u001b[0m\u001b[0m\n\u001b[1;32m    529\u001b[0m         format.write_array(fid, arr, allow_pickle=allow_pickle,\n\u001b[0;32m--> 530\u001b[0;31m                            pickle_kwargs=dict(fix_imports=fix_imports))\n\u001b[0m\u001b[1;32m    531\u001b[0m \u001b[0;34m\u001b[0m\u001b[0m\n\u001b[1;32m    532\u001b[0m \u001b[0;34m\u001b[0m\u001b[0m\n",
      "\u001b[0;32m~/Applications/anaconda3/lib/python3.7/site-packages/numpy/lib/format.py\u001b[0m in \u001b[0;36mwrite_array\u001b[0;34m(fp, array, version, allow_pickle, pickle_kwargs)\u001b[0m\n\u001b[1;32m    678\u001b[0m         \u001b[0;32mif\u001b[0m \u001b[0mpickle_kwargs\u001b[0m \u001b[0;32mis\u001b[0m \u001b[0;32mNone\u001b[0m\u001b[0;34m:\u001b[0m\u001b[0;34m\u001b[0m\u001b[0;34m\u001b[0m\u001b[0m\n\u001b[1;32m    679\u001b[0m             \u001b[0mpickle_kwargs\u001b[0m \u001b[0;34m=\u001b[0m \u001b[0;34m{\u001b[0m\u001b[0;34m}\u001b[0m\u001b[0;34m\u001b[0m\u001b[0;34m\u001b[0m\u001b[0m\n\u001b[0;32m--> 680\u001b[0;31m         \u001b[0mpickle\u001b[0m\u001b[0;34m.\u001b[0m\u001b[0mdump\u001b[0m\u001b[0;34m(\u001b[0m\u001b[0marray\u001b[0m\u001b[0;34m,\u001b[0m \u001b[0mfp\u001b[0m\u001b[0;34m,\u001b[0m \u001b[0mprotocol\u001b[0m\u001b[0;34m=\u001b[0m\u001b[0;36m3\u001b[0m\u001b[0;34m,\u001b[0m \u001b[0;34m**\u001b[0m\u001b[0mpickle_kwargs\u001b[0m\u001b[0;34m)\u001b[0m\u001b[0;34m\u001b[0m\u001b[0;34m\u001b[0m\u001b[0m\n\u001b[0m\u001b[1;32m    681\u001b[0m     \u001b[0;32melif\u001b[0m \u001b[0marray\u001b[0m\u001b[0;34m.\u001b[0m\u001b[0mflags\u001b[0m\u001b[0;34m.\u001b[0m\u001b[0mf_contiguous\u001b[0m \u001b[0;32mand\u001b[0m \u001b[0;32mnot\u001b[0m \u001b[0marray\u001b[0m\u001b[0;34m.\u001b[0m\u001b[0mflags\u001b[0m\u001b[0;34m.\u001b[0m\u001b[0mc_contiguous\u001b[0m\u001b[0;34m:\u001b[0m\u001b[0;34m\u001b[0m\u001b[0;34m\u001b[0m\u001b[0m\n\u001b[1;32m    682\u001b[0m         \u001b[0;32mif\u001b[0m \u001b[0misfileobj\u001b[0m\u001b[0;34m(\u001b[0m\u001b[0mfp\u001b[0m\u001b[0;34m)\u001b[0m\u001b[0;34m:\u001b[0m\u001b[0;34m\u001b[0m\u001b[0;34m\u001b[0m\u001b[0m\n",
      "\u001b[0;31mOSError\u001b[0m: [Errno 28] No space left on device"
     ]
    }
   ],
   "source": [
    "#Save dict containing all data and hdf5 files for CCM\n",
    "%autoreload\n",
    "for i in range(len(co_l)):\n",
    "    co = np.load(co_l[i])\n",
    "    tr = np.load(tr_l[i])\n",
    "    for d in div_list:\n",
    "        sub_tr = tr[:,:(np.int(tr.shape[1]/d))]\n",
    "        name = adfn.save_name(co_l[i]) + '_interval-' + '1.' + str(d) \n",
    "        f_dict = cfn.CCM_seizure_sort(co, sub_tr, sub_tr, name)\n",
    "        print('Done ' + co_l[i])\n"
   ]
  },
  {
   "cell_type": "code",
   "execution_count": 68,
   "metadata": {},
   "outputs": [
    {
     "data": {
      "text/plain": [
       "'/Users/dominicburrows/Dropbox/PhD/analysis/Project/PTZ-WILDTYPE-CCM/PTZ-WILDTYPE-03_2photon_sess-01-6dpf_BLN_run-01_interval-1.2'"
      ]
     },
     "execution_count": 68,
     "metadata": {},
     "output_type": "execute_result"
    }
   ],
   "source": [
    "name"
   ]
  },
  {
   "cell_type": "code",
   "execution_count": null,
   "metadata": {},
   "outputs": [],
   "source": [
    "#Save dict containing all data and hdf5 files for CCM\n",
    "                                                            \n",
    "for i in range(len(co_l)):\n",
    "    co = np.load(co_l[i])\n",
    "    tr = np.load(tr_l[i])\n",
    "    dff = np.load(dff_l[i])\n",
    "    name = adfn.save_name(co_l[i])\n",
    "    f_dict = cfn.CCM_seizure_sort(co, tr, dff, name)\n",
    "    \n",
    "    #plt.figure(figsize = (10,5))\n",
    "    #plt.scatter(f_dict['coord'][:,1], f_dict['coord'][:,0], s = 2, color = 'k')\n",
    "    #plt.show()\n",
    "    print('Done ' + name)"
   ]
  }
 ],
 "metadata": {
  "kernelspec": {
   "display_name": "Python 3",
   "language": "python",
   "name": "python3"
  },
  "language_info": {
   "codemirror_mode": {
    "name": "ipython",
    "version": 3
   },
   "file_extension": ".py",
   "mimetype": "text/x-python",
   "name": "python",
   "nbconvert_exporter": "python",
   "pygments_lexer": "ipython3",
   "version": "3.7.4"
  }
 },
 "nbformat": 4,
 "nbformat_minor": 4
}
